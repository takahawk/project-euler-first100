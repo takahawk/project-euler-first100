{
 "cells": [
  {
   "cell_type": "markdown",
   "metadata": {
    "collapsed": true,
    "pycharm": {
     "name": "#%% md\n"
    }
   },
   "source": [
    "# Quadratic primes\n",
    "## Problem 27\n",
    "Euler discovered the remarkable quadratic formula:\n",
    "<center>$n^2 + n + 41$</center>\n",
    "\n",
    "It turns out that the formula will produce 40 primes for the consecutive integer values $0 <= n <= 39$. However, when $n = 40, 40^2 + 40 + 41 = 40 (40 + 1) + 41$ is divisible by 41, and certainly when $n = 41, 41^2 + 41 + 41$ is clearly divisible by 41.\n",
    "\n",
    "The incredible formula $n^2 - 79n + 1601$ was discovered, which produces 80 primes for the consecutive values $0 <= n <= 79$. The product of the coefficients, −79 and 1601, is −126479.\n",
    "\n",
    "Considering quadratics of the form:\n",
    "$n^2 + an + b$, where $|a| < 1000$ and $|b| <= 1000$\n",
    "where $|n|$ is the modulus/absolute value of $n$\n",
    "e.g. $|11|=11$ and $|-4| = 4$\n",
    "\n",
    "Find the product of the coefficients, $a$ and $b$, for the quadratic expression that produces the maximum number of primes for consecutive values of $n$, starting with $n=0$."
   ]
  },
  {
   "cell_type": "code",
   "execution_count": 3,
   "outputs": [],
   "source": [
    "a_range = range(-999, 1000)\n",
    "b_range = range(-1000, 1001)"
   ],
   "metadata": {
    "collapsed": false,
    "pycharm": {
     "name": "#%%\n"
    }
   }
  },
  {
   "cell_type": "code",
   "execution_count": 11,
   "outputs": [],
   "source": [
    "from math import sqrt\n",
    "\n",
    "class PrimeChecker:\n",
    "    def __init__(self):\n",
    "        self.primes = list()\n",
    "        self.primes_set = set()\n",
    "        self.current_num = 2\n",
    "\n",
    "    def is_prime(self, x):\n",
    "        if x >= self.current_num:\n",
    "            self.populate_up_to(x)\n",
    "        return x in self.primes_set\n",
    "\n",
    "    def populate_up_to(self, x):\n",
    "        while self.current_num <= x:\n",
    "            is_prime = True\n",
    "            for p in self.primes:\n",
    "                if p > sqrt(self.current_num):\n",
    "                    break\n",
    "                if self.current_num % p == 0:\n",
    "                    is_prime = False\n",
    "                    break\n",
    "            if is_prime:\n",
    "                self.primes.append(self.current_num)\n",
    "                self.primes_set.add(self.current_num)\n",
    "            self.current_num += 1\n",
    "\n",
    "prime_checker = PrimeChecker()\n",
    "assert(prime_checker.is_prime(13))\n",
    "assert(not prime_checker.is_prime(14))"
   ],
   "metadata": {
    "collapsed": false,
    "pycharm": {
     "name": "#%%\n"
    }
   }
  },
  {
   "cell_type": "code",
   "execution_count": 16,
   "outputs": [
    {
     "name": "stdout",
     "output_type": "stream",
     "text": [
      "Answer is  -59231\n"
     ]
    }
   ],
   "source": [
    "maxcount, maxa, maxb = 0, 0, 0\n",
    "for a in a_range:\n",
    "    for b in b_range:\n",
    "        n = 0\n",
    "        while prime_checker.is_prime(n ** 2 + a * n + b):\n",
    "            n += 1\n",
    "        if maxcount < n:\n",
    "            maxcount, maxa, maxb = n, a, b\n",
    "\n",
    "answer = maxa * maxb\n",
    "print(\"Answer is \", answer)"
   ],
   "metadata": {
    "collapsed": false,
    "pycharm": {
     "name": "#%%\n"
    }
   }
  }
 ],
 "metadata": {
  "kernelspec": {
   "display_name": "Python 3",
   "language": "python",
   "name": "python3"
  },
  "language_info": {
   "codemirror_mode": {
    "name": "ipython",
    "version": 2
   },
   "file_extension": ".py",
   "mimetype": "text/x-python",
   "name": "python",
   "nbconvert_exporter": "python",
   "pygments_lexer": "ipython2",
   "version": "2.7.6"
  }
 },
 "nbformat": 4,
 "nbformat_minor": 0
}