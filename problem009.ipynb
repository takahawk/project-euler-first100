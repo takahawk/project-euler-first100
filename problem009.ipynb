{
 "cells": [
  {
   "cell_type": "markdown",
   "id": "07bee9ff",
   "metadata": {},
   "source": [
    "# Special Pythagorean triplet\n",
    "## Problem 9\n",
    "A Pythagorean triplet is a set of three natural numbers, a < b < c, for which,\n",
    "<center>$a^2 + b^2 = c^2$</center>\n",
    "\n",
    "For example, $3^2 + 4^2 = 9 + 16 = 25 = 5^2$.\n",
    "There exists exactly one Pythagorean triplet for which a + b + c = 1000.\n",
    "Find the product abc."
   ]
  },
  {
   "cell_type": "code",
   "execution_count": 1,
   "id": "a59610f3",
   "metadata": {},
   "outputs": [],
   "source": [
    "n = 1000"
   ]
  },
  {
   "cell_type": "code",
   "execution_count": 28,
   "id": "8b3716c1",
   "metadata": {},
   "outputs": [
    {
     "data": {
      "text/plain": [
       "[(3, 4, 5),\n",
       " (5, 12, 13),\n",
       " (6, 8, 10),\n",
       " (7, 24, 25),\n",
       " (8, 15, 17),\n",
       " (9, 12, 15),\n",
       " (9, 40, 41),\n",
       " (10, 24, 26),\n",
       " (11, 60, 61),\n",
       " (12, 16, 20)]"
      ]
     },
     "execution_count": 28,
     "metadata": {},
     "output_type": "execute_result"
    }
   ],
   "source": [
    "from math import sqrt\n",
    "triplets = [(a, b, sqrt(a ** 2 + b ** 2)) for a in range(1, n // 3) for b in range(a + 1, n // 2)]\n",
    "triplets = [(a, b, int(c)) for (a, b, c) in triplets if c.is_integer()]\n",
    "triplets[:10]"
   ]
  },
  {
   "cell_type": "code",
   "execution_count": 30,
   "id": "76211474",
   "metadata": {},
   "outputs": [
    {
     "name": "stdout",
     "output_type": "stream",
     "text": [
      "Answer is  31875000\n"
     ]
    }
   ],
   "source": [
    "answer = [a * b * c for (a, b, c) in triplets if a + b + c == n][0]\n",
    "print(\"Answer is \", answer)"
   ]
  }
 ],
 "metadata": {
  "kernelspec": {
   "display_name": "Python 3 (ipykernel)",
   "language": "python",
   "name": "python3"
  },
  "language_info": {
   "codemirror_mode": {
    "name": "ipython",
    "version": 3
   },
   "file_extension": ".py",
   "mimetype": "text/x-python",
   "name": "python",
   "nbconvert_exporter": "python",
   "pygments_lexer": "ipython3",
   "version": "3.9.7"
  }
 },
 "nbformat": 4,
 "nbformat_minor": 5
}
