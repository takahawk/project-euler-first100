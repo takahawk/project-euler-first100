{
 "cells": [
  {
   "cell_type": "markdown",
   "metadata": {
    "collapsed": true,
    "pycharm": {
     "name": "#%% md\n"
    }
   },
   "source": [
    "# Digit cancelling fractions\n",
    "## Problem 33\n",
    "\n",
    "The fraction 49/98 is a curious fraction, as an inexperienced mathematician in attempting to simplify it may incorrectly believe that 49/98 = 4/8, which is correct, is obtained by cancelling the 9s.\n",
    "\n",
    "We shall consider fractions like, 30/50 = 3/5, to be trivial examples.\n",
    "\n",
    "There are exactly four non-trivial examples of this type of fraction, less than one in value, and containing two digits in the numerator and denominator.\n",
    "\n",
    "If the product of these four fractions is given in its lowest common terms, find the value of the denominator."
   ]
  },
  {
   "cell_type": "code",
   "execution_count": 13,
   "outputs": [],
   "source": [
    "from fractions import Fraction\n",
    "\n",
    "def is_cancelling_fraction(x: Fraction):\n",
    "    # NOTE: use normalize=False to create fractions\n",
    "    num_digits = str(x.numerator)\n",
    "    den_digits = str(x.denominator)\n",
    "    if len(num_digits) <= 1 or len(den_digits) <= 1:\n",
    "        return False\n",
    "    for i in range(len(num_digits)):\n",
    "        d = num_digits[i]\n",
    "        num2 = int(num_digits[:i] + num_digits[i + 1:])\n",
    "        j = -1\n",
    "        while True:\n",
    "            try:\n",
    "                j = den_digits.index(d, j + 1)\n",
    "            except ValueError:\n",
    "                break\n",
    "            den2 = int(den_digits[:j] + den_digits[j + 1:])\n",
    "            if den2 == 0:\n",
    "                continue\n",
    "            if Fraction(x.numerator, x.denominator) == Fraction(num2, den2):\n",
    "                return True\n",
    "    return False\n",
    "\n",
    "assert(is_cancelling_fraction(Fraction(49, 98, _normalize=False)))\n",
    "assert(is_cancelling_fraction(Fraction(30, 50, _normalize=False)))\n",
    "assert(not is_cancelling_fraction(Fraction(2, 5, _normalize=False)))\n",
    "assert(not is_cancelling_fraction(Fraction(33, 56, _normalize=False)))"
   ],
   "metadata": {
    "collapsed": false,
    "pycharm": {
     "name": "#%%\n"
    }
   }
  },
  {
   "cell_type": "code",
   "execution_count": 14,
   "outputs": [],
   "source": [
    "def can_be_trivially_reduced(x: Fraction):\n",
    "    return str(x.numerator)[-1] == '0' and str(x.denominator)[-1] == '0'\n",
    "\n",
    "assert(can_be_trivially_reduced(Fraction(30, 50, _normalize=False)))\n",
    "assert(not can_be_trivially_reduced(Fraction(49, 98, _normalize=False)))"
   ],
   "metadata": {
    "collapsed": false,
    "pycharm": {
     "name": "#%%\n"
    }
   }
  },
  {
   "cell_type": "code",
   "execution_count": 25,
   "outputs": [
    {
     "name": "stdout",
     "output_type": "stream",
     "text": [
      "Answer is  100.0\n"
     ]
    }
   ],
   "source": [
    "import math\n",
    "\n",
    "answer = 1\n",
    "\n",
    "for a in range(10, 100):\n",
    "    for b in range(a + 1, 100):\n",
    "        f = Fraction(a, b, _normalize=False)\n",
    "        if is_cancelling_fraction(f) and not can_be_trivially_reduced(f):\n",
    "            answer *= f\n",
    "\n",
    "gcd = math.gcd(answer.numerator, answer.denominator)\n",
    "answer = answer.denominator / gcd\n",
    "print(\"Answer is \", answer)"
   ],
   "metadata": {
    "collapsed": false,
    "pycharm": {
     "name": "#%%\n"
    }
   }
  }
 ],
 "metadata": {
  "kernelspec": {
   "display_name": "Python 3",
   "language": "python",
   "name": "python3"
  },
  "language_info": {
   "codemirror_mode": {
    "name": "ipython",
    "version": 2
   },
   "file_extension": ".py",
   "mimetype": "text/x-python",
   "name": "python",
   "nbconvert_exporter": "python",
   "pygments_lexer": "ipython2",
   "version": "2.7.6"
  }
 },
 "nbformat": 4,
 "nbformat_minor": 0
}