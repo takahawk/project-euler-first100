{
 "cells": [
  {
   "cell_type": "markdown",
   "metadata": {
    "collapsed": true,
    "pycharm": {
     "name": "#%% md\n"
    }
   },
   "source": [
    "# Integer right triangles\n",
    "## Problem 39\n",
    "\n",
    "If p is the perimeter of a right angle triangle with integral length sides, {a,b,c}, there are exactly three solutions for p = 120.\n",
    "\n",
    "{20,48,52}, {24,45,51}, {30,40,50}\n",
    "\n",
    "For which value of p ≤ 1000, is the number of solutions maximised?"
   ]
  },
  {
   "cell_type": "code",
   "execution_count": 12,
   "outputs": [],
   "source": [
    "max_p = 1000"
   ],
   "metadata": {
    "collapsed": false,
    "pycharm": {
     "name": "#%%\n"
    }
   }
  },
  {
   "cell_type": "code",
   "execution_count": 13,
   "outputs": [],
   "source": [
    "def is_right_angle_triangle(a, b, c):\n",
    "    # we assume that hypotenuse length is last\n",
    "    assert(max([a, b, c]) == c)\n",
    "    return a ** 2 + b ** 2 == c ** 2\n",
    "\n",
    "assert(is_right_angle_triangle(20, 48, 52))\n",
    "assert(not is_right_angle_triangle(5, 5, 5))"
   ],
   "metadata": {
    "collapsed": false,
    "pycharm": {
     "name": "#%%\n"
    }
   }
  },
  {
   "cell_type": "markdown",
   "source": [
    "For any $P$ to find different right triangles, we'll iterate through numbers of $a, b, c$ knowing that:\n",
    "1) $a < 1/$\n",
    "2) $b < P - a - b \\Rightarrow 2b < P - a \\Rightarrow b < \\frac{P - a}{2}$\n",
    "3) $c = P - a - b$"
   ],
   "metadata": {
    "collapsed": false,
    "pycharm": {
     "name": "#%% md\n"
    }
   }
  },
  {
   "cell_type": "code",
   "execution_count": 14,
   "outputs": [],
   "source": [
    "def get_right_triangles(p):\n",
    "    return [(a, b, p - a - b)\n",
    "            for a in range(1, p // 3)\n",
    "            for b in range(a, (p - a) // 2)\n",
    "            if is_right_angle_triangle(a, b, p - a - b)]\n",
    "\n",
    "assert(get_right_triangles(120) == [(20, 48, 52), (24, 45, 51), (30, 40, 50)])"
   ],
   "metadata": {
    "collapsed": false,
    "pycharm": {
     "name": "#%%\n"
    }
   }
  },
  {
   "cell_type": "code",
   "execution_count": 15,
   "outputs": [
    {
     "name": "stdout",
     "output_type": "stream",
     "text": [
      "Answer is  840\n"
     ]
    }
   ],
   "source": [
    "answer = max((len(get_right_triangles(p)), p) for p in range(1, max_p + 1))[1]\n",
    "print(\"Answer is \", answer)"
   ],
   "metadata": {
    "collapsed": false,
    "pycharm": {
     "name": "#%%\n"
    }
   }
  }
 ],
 "metadata": {
  "kernelspec": {
   "display_name": "Python 3",
   "language": "python",
   "name": "python3"
  },
  "language_info": {
   "codemirror_mode": {
    "name": "ipython",
    "version": 2
   },
   "file_extension": ".py",
   "mimetype": "text/x-python",
   "name": "python",
   "nbconvert_exporter": "python",
   "pygments_lexer": "ipython2",
   "version": "2.7.6"
  }
 },
 "nbformat": 4,
 "nbformat_minor": 0
}