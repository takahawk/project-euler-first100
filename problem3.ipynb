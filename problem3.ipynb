{
 "cells": [
  {
   "cell_type": "markdown",
   "id": "53424735",
   "metadata": {},
   "source": [
    "# Largest prime factor\n",
    "## Problem 3\n",
    "The prime factors of 13195 are 5, 7, 13 and 29.\n",
    "\n",
    "What is the largest prime factor of the number 600851475143 ?"
   ]
  },
  {
   "cell_type": "code",
   "execution_count": 1,
   "id": "85edbdd1",
   "metadata": {},
   "outputs": [],
   "source": [
    "n =  600851475143  "
   ]
  },
  {
   "cell_type": "markdown",
   "id": "3e76dff4",
   "metadata": {},
   "source": [
    "The naive solution will be to just check every possible factor from 1 to $n$\n",
    "We can somewhat optimize it in two ways: \n",
    "1) we'll use Eratosthenes Sieve on the way to pick only prime numbers  \n",
    "2) every time we find value $y$ that  \n",
    "$n \\mod y = 0$  \n",
    "we'll use $n'$ for further calculations:  \n",
    "$n' = n / y $  "
   ]
  },
  {
   "cell_type": "code",
   "execution_count": 2,
   "id": "111b4109",
   "metadata": {},
   "outputs": [],
   "source": [
    "from math import sqrt\n",
    "\n",
    "primes = []\n",
    "y = 1\n",
    "answer = 1\n",
    "while y < n:\n",
    "    y += 1\n",
    "    is_prime = True\n",
    "    for p in primes:\n",
    "        if sqrt(y) < p:\n",
    "            break\n",
    "        if y % p == 0:\n",
    "            is_prime = False\n",
    "    if is_prime:\n",
    "        primes.append(y)\n",
    "        if n % y == 0:\n",
    "            answer = y\n",
    "        while n % y == 0:\n",
    "            n //= y"
   ]
  },
  {
   "cell_type": "code",
   "execution_count": 3,
   "id": "0c503047",
   "metadata": {},
   "outputs": [
    {
     "name": "stdout",
     "output_type": "stream",
     "text": [
      "Answer is  6857\n"
     ]
    }
   ],
   "source": [
    "print(\"Answer is \", answer)"
   ]
  }
 ],
 "metadata": {
  "kernelspec": {
   "display_name": "Python 3 (ipykernel)",
   "language": "python",
   "name": "python3"
  },
  "language_info": {
   "codemirror_mode": {
    "name": "ipython",
    "version": 3
   },
   "file_extension": ".py",
   "mimetype": "text/x-python",
   "name": "python",
   "nbconvert_exporter": "python",
   "pygments_lexer": "ipython3",
   "version": "3.9.7"
  }
 },
 "nbformat": 4,
 "nbformat_minor": 5
}
