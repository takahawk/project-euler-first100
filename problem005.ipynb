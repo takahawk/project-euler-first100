{
 "cells": [
  {
   "cell_type": "markdown",
   "id": "c3fd6862",
   "metadata": {},
   "source": [
    "# Smallest multiple\n",
    "## Problem 5\n",
    "2520 is the smallest number that can be divided by each of the numbers from 1 to 10 without any remainder.\n",
    "\n",
    "What is the smallest positive number that is evenly divisible by all of the numbers from 1 to 20?"
   ]
  },
  {
   "cell_type": "code",
   "execution_count": 13,
   "id": "d1b5195d",
   "metadata": {},
   "outputs": [],
   "source": [
    "n = 10\n",
    "numbers = range(2, n + 1)"
   ]
  },
  {
   "cell_type": "markdown",
   "id": "bb77ca64",
   "metadata": {},
   "source": [
    "We find prime numbers up to maximum of range"
   ]
  },
  {
   "cell_type": "code",
   "execution_count": 15,
   "id": "e4c88699",
   "metadata": {},
   "outputs": [],
   "source": [
    "from math import sqrt\n",
    "\n",
    "primes = list()\n",
    "\n",
    "for n in numbers:\n",
    "    is_prime = True\n",
    "    for p in primes:\n",
    "        if sqrt(n) < p:\n",
    "            break\n",
    "        if n % p == 0:\n",
    "            is_prime = False\n",
    "            break\n",
    "    if is_prime:\n",
    "        primes.append(n)\n",
    "        "
   ]
  },
  {
   "cell_type": "markdown",
   "id": "95788606",
   "metadata": {},
   "source": [
    "We factorize every number from range to prime factors and find max number of powers of prime factors"
   ]
  },
  {
   "cell_type": "code",
   "execution_count": 16,
   "id": "eb06dbec",
   "metadata": {},
   "outputs": [],
   "source": [
    "prime_powers = dict()\n",
    "for n in numbers:\n",
    "    for p in primes:\n",
    "        if p > n:\n",
    "            break\n",
    "        power = 0\n",
    "        while n % p == 0:\n",
    "            n /= p\n",
    "            power += 1\n",
    "        prime_powers[p] = max(power, prime_powers.setdefault(p, 0))"
   ]
  },
  {
   "cell_type": "markdown",
   "id": "7854578e",
   "metadata": {},
   "source": [
    "Now we can just construct the number we need"
   ]
  },
  {
   "cell_type": "code",
   "execution_count": null,
   "id": "7b8fa609",
   "metadata": {},
   "outputs": [],
   "source": [
    "for k, v in prime_powers"
   ]
  },
  {
   "cell_type": "code",
   "execution_count": 9,
   "id": "67647c4f",
   "metadata": {},
   "outputs": [],
   "source": [
    "answer = 1\n",
    "for n in reversed(numbers):\n",
    "    if answer % n != 0:\n",
    "        answer *= n"
   ]
  },
  {
   "cell_type": "code",
   "execution_count": 10,
   "id": "83aaba8a",
   "metadata": {},
   "outputs": [
    {
     "name": "stdout",
     "output_type": "stream",
     "text": [
      "Answer is  5040\n"
     ]
    }
   ],
   "source": [
    "print(\"Answer is \", answer)"
   ]
  },
  {
   "cell_type": "code",
   "execution_count": null,
   "id": "cceb64ff",
   "metadata": {},
   "outputs": [],
   "source": []
  }
 ],
 "metadata": {
  "kernelspec": {
   "display_name": "Python 3 (ipykernel)",
   "language": "python",
   "name": "python3"
  },
  "language_info": {
   "codemirror_mode": {
    "name": "ipython",
    "version": 3
   },
   "file_extension": ".py",
   "mimetype": "text/x-python",
   "name": "python",
   "nbconvert_exporter": "python",
   "pygments_lexer": "ipython3",
   "version": "3.9.7"
  }
 },
 "nbformat": 4,
 "nbformat_minor": 5
}
