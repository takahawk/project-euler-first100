{
 "cells": [
  {
   "cell_type": "markdown",
   "metadata": {
    "collapsed": true,
    "pycharm": {
     "name": "#%% md\n"
    }
   },
   "source": [
    "# Counting Sundays\n",
    "## Problem 19\n",
    "\n",
    "You are given the following information, but you may prefer to do some research for yourself.\n",
    "\n",
    "    1 Jan 1900 was a Monday.\n",
    "\n",
    "    Thirty days has September,\n",
    "    April, June and November.\n",
    "    All the rest have thirty-one,\n",
    "    Saving February alone,\n",
    "    Which has twenty-eight, rain or shine.\n",
    "    And on leap years, twenty-nine.\n",
    "\n",
    "    A leap year occurs on any year evenly divisible by 4, but not on a century unless it is divisible by 400.\n",
    "\n",
    "How many Sundays fell on the first of the month during the twentieth century (1 Jan 1901 to 31 Dec 2000)?"
   ]
  },
  {
   "cell_type": "code",
   "execution_count": 48,
   "outputs": [],
   "source": [
    "d1, m1, y1 = 1, 1, 1901\n",
    "d2, m2, y2 = 31, 12, 2000"
   ],
   "metadata": {
    "collapsed": false,
    "pycharm": {
     "name": "#%%\n"
    }
   }
  },
  {
   "cell_type": "code",
   "execution_count": 49,
   "outputs": [],
   "source": [
    "months = {\n",
    "    1: 31,\n",
    "    2: 28,\n",
    "    3: 31,\n",
    "    4: 30,\n",
    "    5: 31,\n",
    "    6: 30,\n",
    "    7: 31,\n",
    "    8: 31,\n",
    "    9: 30,\n",
    "    10: 31,\n",
    "    11: 30,\n",
    "    12: 31,\n",
    "}\n",
    "\n",
    "def to_day_number(day, month, year):\n",
    "    res = day\n",
    "    for i in range(1, month):\n",
    "        res += months[i]\n",
    "        if i == 2 and year % 4 == 0 and (year % 100 != 0 or year % 400 == 0):\n",
    "            res += 1\n",
    "    res += (year - 1) * 365 + ((year - 1) // 4 - (year - 1) // 100 + (year - 1) // 400)\n",
    "    return res\n",
    "\n",
    "assert(to_day_number(1, 1, 1902) - to_day_number(1, 1, 1901) == 365)\n",
    "assert(to_day_number(1, 1, 1905) - to_day_number(1, 1, 1904) == 366)\n",
    "assert(to_day_number(1, 1, 1901) - to_day_number(1, 1, 1900) == 365)\n",
    "assert(to_day_number(1, 1, 2001) - to_day_number(1, 1, 2000) == 366)\n",
    "assert(to_day_number(1, 2, 1901) - to_day_number(1, 1, 1901) == 31)"
   ],
   "metadata": {
    "collapsed": false,
    "pycharm": {
     "name": "#%%\n"
    }
   }
  },
  {
   "cell_type": "code",
   "execution_count": 50,
   "outputs": [
    {
     "name": "stdout",
     "output_type": "stream",
     "text": [
      "First Monday is:  1\n",
      "First Sunday is:  0\n"
     ]
    }
   ],
   "source": [
    "first_monday = to_day_number(1, 1, 1900) % 7\n",
    "print(\"First Monday is: \", first_monday)\n",
    "first_sunday = (first_monday + 6) % 7\n",
    "print(\"First Sunday is: \", first_sunday)\n",
    "def is_sunday(day):\n",
    "    return (day - first_sunday) % 7 == 0\n",
    "assert(is_sunday(to_day_number(7, 1, 1900)))\n",
    "assert(is_sunday(to_day_number(20, 3, 2022)))"
   ],
   "metadata": {
    "collapsed": false,
    "pycharm": {
     "name": "#%%\n"
    }
   }
  },
  {
   "cell_type": "code",
   "execution_count": 51,
   "outputs": [
    {
     "name": "stdout",
     "output_type": "stream",
     "text": [
      "Answer is  171\n"
     ]
    }
   ],
   "source": [
    "answer = 0\n",
    "for m in range(m1 if d1 == 1 else m1 + 1, 13):\n",
    "    if is_sunday(to_day_number(1, m, y1)):\n",
    "        answer += 1\n",
    "\n",
    "for y in range(y1 + 1, y2):\n",
    "    for m in range(1, 13):\n",
    "        if is_sunday(to_day_number(1, m, y)):\n",
    "            answer += 1\n",
    "\n",
    "for m in range(1, m2 + 1):\n",
    "    if is_sunday(to_day_number(1, m, y2)):\n",
    "        if is_sunday(to_day_number(1, m, y2)):\n",
    "            answer += 1\n",
    "\n",
    "print(\"Answer is \", answer)"
   ],
   "metadata": {
    "collapsed": false,
    "pycharm": {
     "name": "#%%\n"
    }
   }
  },
  {
   "cell_type": "code",
   "execution_count": null,
   "outputs": [],
   "source": [],
   "metadata": {
    "collapsed": false,
    "pycharm": {
     "name": "#%%\n"
    }
   }
  }
 ],
 "metadata": {
  "kernelspec": {
   "display_name": "Python 3",
   "language": "python",
   "name": "python3"
  },
  "language_info": {
   "codemirror_mode": {
    "name": "ipython",
    "version": 2
   },
   "file_extension": ".py",
   "mimetype": "text/x-python",
   "name": "python",
   "nbconvert_exporter": "python",
   "pygments_lexer": "ipython2",
   "version": "2.7.6"
  }
 },
 "nbformat": 4,
 "nbformat_minor": 0
}