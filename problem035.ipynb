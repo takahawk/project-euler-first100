{
 "cells": [
  {
   "cell_type": "markdown",
   "metadata": {
    "collapsed": true,
    "pycharm": {
     "name": "#%% md\n"
    }
   },
   "source": [
    "# Circular primes\n",
    "## Problem 35\n",
    "\n",
    "The number, 197, is called a circular prime because all rotations of the digits: 197, 971, and 719, are themselves prime.\n",
    "\n",
    "There are thirteen such primes below 100: 2, 3, 5, 7, 11, 13, 17, 31, 37, 71, 73, 79, and 97.\n",
    "\n",
    "How many circular primes are there below one million?"
   ]
  },
  {
   "cell_type": "code",
   "execution_count": 2,
   "outputs": [],
   "source": [
    "n = 1_000_001"
   ],
   "metadata": {
    "collapsed": false,
    "pycharm": {
     "name": "#%%\n"
    }
   }
  },
  {
   "cell_type": "code",
   "execution_count": 4,
   "outputs": [],
   "source": [
    "from math import sqrt\n",
    "\n",
    "primes = []\n",
    "primes_set = set()\n",
    "i = 2\n",
    "while i < n:\n",
    "    is_prime = True\n",
    "    for p in primes:\n",
    "        if sqrt(i) < p:\n",
    "            break\n",
    "        if i % p == 0:\n",
    "            is_prime = False\n",
    "\n",
    "    if is_prime:\n",
    "        primes.append(i)\n",
    "        primes_set.add(i)\n",
    "\n",
    "    i += 1\n",
    "\n",
    "assert(197 in primes_set)\n",
    "assert(64 not in primes_set)"
   ],
   "metadata": {
    "collapsed": false,
    "pycharm": {
     "name": "#%%\n"
    }
   }
  },
  {
   "cell_type": "code",
   "execution_count": 9,
   "outputs": [],
   "source": [
    "def get_rotations(x):\n",
    "    rotation = x\n",
    "    while True:\n",
    "        yield rotation\n",
    "        tmp = str(rotation)\n",
    "        rotation = int(tmp[-1] + tmp[:-1])\n",
    "        if rotation == x:\n",
    "            return\n",
    "\n",
    "assert(list(get_rotations(197)) == [197, 719, 971])"
   ],
   "metadata": {
    "collapsed": false,
    "pycharm": {
     "name": "#%%\n"
    }
   }
  },
  {
   "cell_type": "code",
   "execution_count": 12,
   "outputs": [
    {
     "name": "stdout",
     "output_type": "stream",
     "text": [
      "Answer is  55\n"
     ]
    }
   ],
   "source": [
    "answer = sum(1 for p in primes\n",
    "               if all(r in primes_set\n",
    "                      for r in get_rotations(p)))\n",
    "print(\"Answer is \", answer)"
   ],
   "metadata": {
    "collapsed": false,
    "pycharm": {
     "name": "#%%\n"
    }
   }
  }
 ],
 "metadata": {
  "kernelspec": {
   "display_name": "Python 3",
   "language": "python",
   "name": "python3"
  },
  "language_info": {
   "codemirror_mode": {
    "name": "ipython",
    "version": 2
   },
   "file_extension": ".py",
   "mimetype": "text/x-python",
   "name": "python",
   "nbconvert_exporter": "python",
   "pygments_lexer": "ipython2",
   "version": "2.7.6"
  }
 },
 "nbformat": 4,
 "nbformat_minor": 0
}