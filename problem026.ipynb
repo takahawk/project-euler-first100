{
 "cells": [
  {
   "cell_type": "markdown",
   "metadata": {
    "collapsed": true,
    "pycharm": {
     "name": "#%% md\n"
    }
   },
   "source": [
    "# Reciprocal cycles\n",
    "## Problem 26\n",
    "\n",
    "\n",
    "\n",
    "A unit fraction contains 1 in the numerator. The decimal representation of the unit fractions with denominators 2 to 10 are given:\n",
    "\n",
    "    1/2\t= \t0.5\n",
    "    1/3\t= \t0.(3)\n",
    "    1/4\t= \t0.25\n",
    "    1/5\t= \t0.2\n",
    "    1/6\t= \t0.1(6)\n",
    "    1/7\t= \t0.(142857)\n",
    "    1/8\t= \t0.125\n",
    "    1/9\t= \t0.(1)\n",
    "    1/10\t= \t0.1\n",
    "\n",
    "Where 0.1(6) means 0.166666..., and has a 1-digit recurring cycle. It can be seen that 1/7 has a 6-digit recurring cycle.\n",
    "\n",
    "Find the value of d < 1000 for which 1/d contains the longest recurring cycle in its decimal fraction part."
   ]
  },
  {
   "cell_type": "code",
   "execution_count": 18,
   "outputs": [],
   "source": [
    "numbers = range(1, 1001)"
   ],
   "metadata": {
    "collapsed": false,
    "pycharm": {
     "name": "#%%\n"
    }
   }
  },
  {
   "cell_type": "markdown",
   "source": [
    "We can solve the problem in the following way:\n",
    "1) apply long division\n",
    "2) save tuple of partial results and remainders as unique and linked to each other (in Python we can use dictionary)\n",
    "3) anytime we find partial result/remainder that is already in list, we know it is the start of the cycle"
   ],
   "metadata": {
    "collapsed": false,
    "pycharm": {
     "name": "#%% md\n"
    }
   }
  },
  {
   "cell_type": "code",
   "execution_count": 37,
   "outputs": [],
   "source": [
    "def find_cycle(den):\n",
    "    num = 1\n",
    "    res = dict()\n",
    "    prev = (0, 0)\n",
    "    while True:\n",
    "        if num == 0:\n",
    "            return \"0\"\n",
    "        while num < den:\n",
    "            num *= 10\n",
    "        x = num // den\n",
    "        num -= x * den\n",
    "        if (x, num) in res:\n",
    "            cycle = list()\n",
    "            cycle.append(str(prev[0]))\n",
    "            while prev != (x, num):\n",
    "                prev = res[prev]\n",
    "                cycle.append(str(prev[0]))\n",
    "            return \"\".join(reversed(cycle))\n",
    "        res[(x, num)] = prev\n",
    "        prev = (x, num)\n",
    "\n",
    "assert(find_cycle(2) == \"0\")\n",
    "assert(find_cycle(3) == \"3\")\n",
    "assert(find_cycle(4) == \"0\")\n",
    "assert(find_cycle(5) == \"0\")\n",
    "assert(find_cycle(6) == \"6\")\n",
    "assert(find_cycle(7) == \"142857\")\n",
    "assert(find_cycle(8) == \"0\")\n",
    "assert(find_cycle(9) == \"1\")\n",
    "assert(find_cycle(10) == \"0\")"
   ],
   "metadata": {
    "collapsed": false,
    "pycharm": {
     "name": "#%%\n"
    }
   }
  },
  {
   "cell_type": "code",
   "execution_count": 38,
   "outputs": [
    {
     "name": "stdout",
     "output_type": "stream",
     "text": [
      "Answer is  983\n"
     ]
    }
   ],
   "source": [
    "answer = max([(len(find_cycle(x)), x) for x in numbers])[1]\n",
    "print(\"Answer is \", answer)"
   ],
   "metadata": {
    "collapsed": false,
    "pycharm": {
     "name": "#%%\n"
    }
   }
  }
 ],
 "metadata": {
  "kernelspec": {
   "display_name": "Python 3",
   "language": "python",
   "name": "python3"
  },
  "language_info": {
   "codemirror_mode": {
    "name": "ipython",
    "version": 2
   },
   "file_extension": ".py",
   "mimetype": "text/x-python",
   "name": "python",
   "nbconvert_exporter": "python",
   "pygments_lexer": "ipython2",
   "version": "2.7.6"
  }
 },
 "nbformat": 4,
 "nbformat_minor": 0
}