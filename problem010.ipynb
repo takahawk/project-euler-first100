{
 "cells": [
  {
   "cell_type": "markdown",
   "id": "69d164bb",
   "metadata": {},
   "source": [
    "# Summation of primes\n",
    "## Problem 10\n",
    "The sum of the primes below 10 is 2 + 3 + 5 + 7 = 17.\n",
    "\n",
    "Find the sum of all the primes below two million."
   ]
  },
  {
   "cell_type": "code",
   "execution_count": 4,
   "id": "ef0a06e7",
   "metadata": {},
   "outputs": [],
   "source": [
    "threshold = 2_000_000"
   ]
  },
  {
   "cell_type": "code",
   "execution_count": 5,
   "id": "c6eeae0c",
   "metadata": {},
   "outputs": [
    {
     "data": {
      "text/plain": [
       "[2, 3, 5, 7, 11, 13, 17, 19, 23, 29]"
      ]
     },
     "execution_count": 5,
     "metadata": {},
     "output_type": "execute_result"
    }
   ],
   "source": [
    "from math import sqrt\n",
    "\n",
    "primes = []\n",
    "i = 1\n",
    "while i < threshold:\n",
    "    i += 1\n",
    "    is_prime = True\n",
    "    for p in primes:\n",
    "        if sqrt(i) < p:\n",
    "            break\n",
    "        if i % p == 0:\n",
    "            is_prime = False\n",
    "            break\n",
    "    if is_prime:\n",
    "        primes.append(i)\n",
    "primes[:10]"
   ]
  },
  {
   "cell_type": "code",
   "execution_count": 6,
   "id": "4fdcae40",
   "metadata": {},
   "outputs": [
    {
     "name": "stdout",
     "output_type": "stream",
     "text": [
      "Answer is  142913828922\n"
     ]
    }
   ],
   "source": [
    "answer = sum(primes)\n",
    "print(\"Answer is \", answer)"
   ]
  }
 ],
 "metadata": {
  "kernelspec": {
   "display_name": "Python 3 (ipykernel)",
   "language": "python",
   "name": "python3"
  },
  "language_info": {
   "codemirror_mode": {
    "name": "ipython",
    "version": 3
   },
   "file_extension": ".py",
   "mimetype": "text/x-python",
   "name": "python",
   "nbconvert_exporter": "python",
   "pygments_lexer": "ipython3",
   "version": "3.9.7"
  }
 },
 "nbformat": 4,
 "nbformat_minor": 5
}
