{
 "cells": [
  {
   "cell_type": "markdown",
   "metadata": {
    "collapsed": true,
    "pycharm": {
     "name": "#%% md\n"
    }
   },
   "source": [
    "# Lexicographic permutations\n",
    "## Problem 24\n",
    "\n",
    "A permutation is an ordered arrangement of objects. For example, 3124 is one possible permutation of the digits 1, 2, 3 and 4. If all of the permutations are listed numerically or alphabetically, we call it lexicographic order. The lexicographic permutations of 0, 1 and 2 are:\n",
    "\n",
    "012   021   102   120   201   210\n",
    "\n",
    "What is the millionth lexicographic permutation of the digits 0, 1, 2, 3, 4, 5, 6, 7, 8 and 9?"
   ]
  },
  {
   "cell_type": "code",
   "execution_count": 26,
   "outputs": [],
   "source": [
    "digits = \"0123456789\"\n",
    "n = 1_000_000 - 1"
   ],
   "metadata": {
    "collapsed": false,
    "pycharm": {
     "name": "#%%\n"
    }
   }
  },
  {
   "cell_type": "markdown",
   "source": [
    "We can show that position of lexicographically earlier digits will have much more value.\n",
    "Lets say we have alphabet of three digits:\n",
    " <center>$\\{0, 1, 2, 3\\}$</center>\n",
    "We can enumerates all possible permutations:\n",
    "<center>$p_1 = 0123$</center>\n",
    "<center>$p_2 = 0132$</center>\n",
    "<center>$p_3 = 0213$</center>\n",
    "<center>$p_4 = 0231$</center>\n",
    "<center>$p_5 = 0312$</center>\n",
    "<center>$p_6 = 0321$</center>\n",
    "<center>$p_7 = 1023$</center>\n",
    "<center>$p_8 = 1032$</center>\n",
    "<center>$p_9 = 1203$</center>\n",
    "<center>$p_{10} = 1230$</center>\n",
    "<center>$p_{11} = 1302$</center>\n",
    "<center>$p_{12} = 1320$</center>\n",
    "<center>$p_{13} = 2013$</center>\n",
    "<center>$p_{14} = 2031$</center>\n",
    "<center>$p_{15} = 2103$</center>\n",
    "<center>$p_{16} = 2130$</center>\n",
    "<center>$p_{17} = 2301$</center>\n",
    "<center>$p_{18} = 2310$</center>\n",
    "<center>$p_{19} = 3012$</center>\n",
    "<center>$p_{20} = 3021$</center>\n",
    "<center>$p_{21} = 3102$</center>\n",
    "<center>$p_{22} = 3120$</center>\n",
    "<center>$p_{23} = 3201$</center>\n",
    "<center>$p_{24} = 3210$</center>\n",
    "\n",
    "If we observe only first digit in permutation, we'll see that every time it increments - permutation number increases by 6.\n",
    "Then if we observe second digit before first number switchs, number of permutation with each will increase by 2.\n",
    "Third digit increment \"increases\" positional number of permutation by 1.\n",
    "And the last is always just the digit that remained.\n",
    "We also can observe, that we have 24 permutations and for alphabet of 5 digits the next will be 25-permutation and also we assume that by induction in 5-digit alphabet increment of first number change position number by 24. We assume that we have a factorial tendency here ($1, 2, 6, 24, 120...$)\n",
    "Given all of that, we can get the recursive equation, that we can use to calculate permutation number:\n",
    "<center>for alphabet of digits $S$ and permutation of digits $d_{1..n}$</center>\n",
    "<center>$\n",
    "\\begin{cases}\n",
    "    i_S^{d_{1..n}} = 0,& \\text{if } S = \\emptyset\\\\\n",
    "    i_S^{d_{1..n}} = d_1 * (|S| - 1)! + i_{(S \\ {d_1})}^{d_2..n}, & \\text{otherwise}\n",
    "\\end{cases}\n",
    "$\n",
    "</center>\n",
    "\n",
    "We also can construct the value given the permutation number, having equation to pick up digit by position:\n",
    "<center>$d = i \\div (|S| - 1)!$</center>\n",
    "\n",
    "But warning 1: $d$ is lexicographic position of digit in the set here, not the actual digit.\n",
    "Warning 2: this equation is for first digit. We could apply this equation recursively, excluding used digit from set.\n",
    "Warning 3: for case when $|S|=1$ we just use the only number in the set without any calculations"
   ],
   "metadata": {
    "collapsed": false,
    "pycharm": {
     "name": "#%% md\n"
    }
   }
  },
  {
   "cell_type": "code",
   "execution_count": 29,
   "outputs": [],
   "source": [
    "from functools import reduce\n",
    "\n",
    "def fact(x):\n",
    "    return reduce(lambda x, y: x * y, range(1, x + 1), 1)\n",
    "\n",
    "def get_permutation(i, alphabet):\n",
    "    # NOTE: numbers starts with 0, not 1\n",
    "    f = fact(len(alphabet) - 1)\n",
    "    if i > f * len(alphabet):\n",
    "        raise Exception(\"there is no \" + str(i) + \" permutation. Number is too big\")\n",
    "    if len(alphabet) == 1:\n",
    "        return alphabet[0]\n",
    "    digit = alphabet[i // f]\n",
    "    return digit + get_permutation(i - f * (i // f), [x for x in alphabet if x != digit])\n",
    "\n",
    "assert(get_permutation(0, \"012\") == \"012\")\n",
    "assert(get_permutation(1, \"012\") == \"021\")\n",
    "assert(get_permutation(2, \"012\") == \"102\")\n",
    "assert(get_permutation(3, \"012\") == \"120\")\n",
    "assert(get_permutation(4, \"012\") == \"201\")\n",
    "assert(get_permutation(5, \"012\") == \"210\")"
   ],
   "metadata": {
    "collapsed": false,
    "pycharm": {
     "name": "#%%\n"
    }
   }
  },
  {
   "cell_type": "code",
   "execution_count": 30,
   "outputs": [
    {
     "name": "stdout",
     "output_type": "stream",
     "text": [
      "Answer is  2783915460\n"
     ]
    }
   ],
   "source": [
    "answer = get_permutation(n, digits)\n",
    "print(\"Answer is \", answer)"
   ],
   "metadata": {
    "collapsed": false,
    "pycharm": {
     "name": "#%%\n"
    }
   }
  }
 ],
 "metadata": {
  "kernelspec": {
   "display_name": "Python 3",
   "language": "python",
   "name": "python3"
  },
  "language_info": {
   "codemirror_mode": {
    "name": "ipython",
    "version": 2
   },
   "file_extension": ".py",
   "mimetype": "text/x-python",
   "name": "python",
   "nbconvert_exporter": "python",
   "pygments_lexer": "ipython2",
   "version": "2.7.6"
  }
 },
 "nbformat": 4,
 "nbformat_minor": 0
}