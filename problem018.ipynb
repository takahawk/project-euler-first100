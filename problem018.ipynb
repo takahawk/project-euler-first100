{
 "cells": [
  {
   "cell_type": "markdown",
   "metadata": {
    "collapsed": true,
    "pycharm": {
     "name": "#%% md\n"
    }
   },
   "source": [
    "# Maximum path sum I\n",
    "## Problem 18\n",
    "By starting at the top of the triangle below and moving to adjacent numbers on the row below, the maximum total from top to bottom is 23.\n",
    "<center><span style=\"color: red\">3</span></center>\n",
    "<center><span style=\"color: red\">7</span> 4</center>\n",
    "<center>2 <span style=\"color: red\">4</span> 6</center>\n",
    "<center>8 5 <span style=\"color: red\">9</span> 3  </center>\n",
    "\n",
    "That is, 3 + 7 + 4 + 9 = 23.\n",
    "\n",
    "Find the maximum total from top to bottom of the triangle below:\n",
    "<center>75</center>\n",
    "<center>95 64</center>\n",
    "<center>17 47 82</center>\n",
    "<center>18 35 87 10</center>\n",
    "<center>20 04 82 47 65</center>\n",
    "<center>19 01 23 75 03 34</center>\n",
    "<center>88 02 77 73 07 63 67</center>\n",
    "<center>99 65 04 28 06 16 70 92</center>\n",
    "<center>41 41 26 56 83 40 80 70 33</center>\n",
    "<center>41 48 72 33 47 32 37 16 94 29</center>\n",
    "<center>53 71 44 65 25 43 91 52 97 51 14</center>\n",
    "<center>70 11 33 28 77 73 17 78 39 68 17 57</center>\n",
    "<center>91 71 52 38 17 14 91 43 58 50 27 29 48</center>\n",
    "<center>63 66 04 68 89 53 67 30 73 16 69 87 40 31</center>\n",
    "<center>04 62 98 27 23 09 70 98 73 93 38 53 60 04 23</center>\n",
    "\n",
    "NOTE: As there are only 16384 routes, it is possible to solve this problem by trying every route. However, Problem 67, is the same challenge with a triangle containing one-hundred rows; it cannot be solved by brute force, and requires a clever method! ;o)"
   ]
  },
  {
   "cell_type": "code",
   "execution_count": 16,
   "outputs": [],
   "source": [
    "# triangle = [\n",
    "#     [3],\n",
    "#     [7, 4],\n",
    "#     [2, 4, 6],\n",
    "#     [8, 5, 9, 3],\n",
    "# ]\n",
    "triangle = [\n",
    "    [75],\n",
    "    [95, 64],\n",
    "    [17, 47, 82],\n",
    "    [18, 35, 87, 10],\n",
    "    [20,  4, 82, 47, 65],\n",
    "    [19,  1, 23, 75,  3, 34],\n",
    "    [88,  2, 77, 73,  7, 63, 67],\n",
    "    [99, 65,  4, 28,  6, 16, 70, 92],\n",
    "    [41, 41, 26, 56, 83, 40, 80, 70, 33],\n",
    "    [41, 48, 72, 33, 47, 32, 37, 16, 94, 29],\n",
    "    [53, 71, 44, 65, 25, 43, 91, 52, 97, 51, 14],\n",
    "    [70, 11, 33, 28, 77, 73, 17, 78, 39, 68, 17, 57],\n",
    "    [91, 71, 52, 38, 17, 14, 91, 43, 58, 50, 27, 29, 48],\n",
    "    [63, 66,  4, 68, 89, 53, 67, 30, 73, 16, 69, 87, 40, 31],\n",
    "    [ 4, 62, 98, 27, 23,  9, 70, 98, 73, 93, 38, 53, 60,  4, 23],\n",
    "]"
   ],
   "metadata": {
    "collapsed": false,
    "pycharm": {
     "name": "#%%\n"
    }
   }
  },
  {
   "cell_type": "markdown",
   "source": [
    "In fact we have path finding task.\n",
    "We need to find max-valued path from the top of triangle to it's bottom finding max values for all the positions.\n",
    "If we represent our triangle as graph we'll have every node $a_{i,j}$ connected to nodes $a_{i + 1, j}$ and $a_{i + 1, j + 1}$ and we also have abstact node at the bottom of triangle connected to all bottom nodes.\n",
    "![](p018.png)\n",
    "We can see, that:\n",
    "$w_{i,j} = a_{i,j}$, if $i = n$\n",
    "$w_{i,j} = max(w_{i + 1,j},w_{i + 1, j + 1})$, if $i < n$\n",
    "where $w_{i,j}$ - max path from bottom to node, $n$ - number of rows\n",
    "\n",
    "Given that, our task is just find $w_{1,1}$"
   ],
   "metadata": {
    "collapsed": false,
    "pycharm": {
     "name": "#%% md\n"
    }
   }
  },
  {
   "cell_type": "code",
   "execution_count": 17,
   "outputs": [],
   "source": [
    "# it will be more convenient for actual calculations to reverse the order of rows\n",
    "triangle.reverse()\n",
    "max_paths = [triangle[0]]\n",
    "for i in range(1, len(triangle)):\n",
    "    max_paths.append(list())\n",
    "    for j in range(len(triangle[i])):\n",
    "        max_paths[i].append(triangle[i][j] + max(max_paths[i - 1][j], max_paths[i - 1][j + 1]))"
   ],
   "metadata": {
    "collapsed": false,
    "pycharm": {
     "name": "#%%\n"
    }
   }
  },
  {
   "cell_type": "code",
   "execution_count": 18,
   "outputs": [
    {
     "name": "stdout",
     "output_type": "stream",
     "text": [
      "Answer is  1074\n"
     ]
    }
   ],
   "source": [
    "answer = max_paths[-1][0]\n",
    "print(\"Answer is \", answer)"
   ],
   "metadata": {
    "collapsed": false,
    "pycharm": {
     "name": "#%%\n"
    }
   }
  }
 ],
 "metadata": {
  "kernelspec": {
   "display_name": "Python 3",
   "language": "python",
   "name": "python3"
  },
  "language_info": {
   "codemirror_mode": {
    "name": "ipython",
    "version": 2
   },
   "file_extension": ".py",
   "mimetype": "text/x-python",
   "name": "python",
   "nbconvert_exporter": "python",
   "pygments_lexer": "ipython2",
   "version": "2.7.6"
  }
 },
 "nbformat": 4,
 "nbformat_minor": 0
}