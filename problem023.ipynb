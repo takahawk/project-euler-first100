{
 "cells": [
  {
   "cell_type": "markdown",
   "metadata": {
    "collapsed": true,
    "pycharm": {
     "name": "#%% md\n"
    }
   },
   "source": [
    "# Non-abundant sums\n",
    "## Problem 23\n",
    "\n",
    "A perfect number is a number for which the sum of its proper divisors is exactly equal to the number. For example, the sum of the proper divisors of 28 would be 1 + 2 + 4 + 7 + 14 = 28, which means that 28 is a perfect number.\n",
    "\n",
    "A number n is called deficient if the sum of its proper divisors is less than n and it is called abundant if this sum exceeds n.\n",
    "\n",
    "As 12 is the smallest abundant number, 1 + 2 + 3 + 4 + 6 = 16, the smallest number that can be written as the sum of two abundant numbers is 24. By mathematical analysis, it can be shown that all integers greater than 28123 can be written as the sum of two abundant numbers. However, this upper limit cannot be reduced any further by analysis even though it is known that the greatest number that cannot be expressed as the sum of two abundant numbers is less than this limit.\n",
    "\n",
    "Find the sum of all the positive integers which cannot be written as the sum of two abundant numbers."
   ]
  },
  {
   "cell_type": "code",
   "execution_count": 1,
   "outputs": [],
   "source": [
    "n = 28123"
   ],
   "metadata": {
    "collapsed": false,
    "pycharm": {
     "name": "#%%\n"
    }
   }
  },
  {
   "cell_type": "code",
   "execution_count": 4,
   "outputs": [],
   "source": [
    "def get_divisors(x):\n",
    "    res = list()\n",
    "    for i in range(1, x // 2 + 1):\n",
    "        if x % i == 0:\n",
    "            res.append(i)\n",
    "    return res\n",
    "\n",
    "assert(get_divisors(28) == [1, 2, 4, 7, 14])\n",
    "assert(get_divisors(12) == [1, 2, 3, 4, 6])"
   ],
   "metadata": {
    "collapsed": false,
    "pycharm": {
     "name": "#%%\n"
    }
   }
  },
  {
   "cell_type": "code",
   "execution_count": 6,
   "outputs": [],
   "source": [
    "def is_abundant(x):\n",
    "    return x < sum(get_divisors(x))\n",
    "\n",
    "assert(is_abundant(12))\n",
    "assert(not is_abundant(28))\n",
    "assert(not is_abundant(6))"
   ],
   "metadata": {
    "collapsed": false,
    "pycharm": {
     "name": "#%%\n"
    }
   }
  },
  {
   "cell_type": "code",
   "execution_count": 8,
   "outputs": [
    {
     "name": "stdout",
     "output_type": "stream",
     "text": [
      "Answer is  4179871\n"
     ]
    }
   ],
   "source": [
    "abundants = list()\n",
    "sums = set()\n",
    "for i in range(1, n):\n",
    "    if is_abundant(i):\n",
    "        abundants.append(i)\n",
    "    else:\n",
    "        continue\n",
    "    for j in abundants:\n",
    "        if i + j > n:\n",
    "            break\n",
    "        sums.add(i + j)\n",
    "\n",
    "answer = sum([x for x in range(1, n) if x not in sums])\n",
    "print(\"Answer is \", answer)"
   ],
   "metadata": {
    "collapsed": false,
    "pycharm": {
     "name": "#%%\n"
    }
   }
  }
 ],
 "metadata": {
  "kernelspec": {
   "display_name": "Python 3",
   "language": "python",
   "name": "python3"
  },
  "language_info": {
   "codemirror_mode": {
    "name": "ipython",
    "version": 2
   },
   "file_extension": ".py",
   "mimetype": "text/x-python",
   "name": "python",
   "nbconvert_exporter": "python",
   "pygments_lexer": "ipython2",
   "version": "2.7.6"
  }
 },
 "nbformat": 4,
 "nbformat_minor": 0
}