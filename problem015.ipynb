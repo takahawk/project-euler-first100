{
 "cells": [
  {
   "cell_type": "markdown",
   "metadata": {
    "collapsed": true,
    "pycharm": {
     "name": "#%% md\n"
    }
   },
   "source": [
    "# Lattice paths\n",
    "## Problem 15\n",
    "Starting in the top left corner of a 2×2 grid, and only being able to move to the right and down, there are exactly 6 routes to the bottom right corner.\n",
    "![](p015.png)\n",
    "How many such routes are there through a 20×20 grid?"
   ]
  },
  {
   "cell_type": "code",
   "execution_count": 16,
   "outputs": [],
   "source": [
    "m = 20\n",
    "n = 20"
   ],
   "metadata": {
    "collapsed": false,
    "pycharm": {
     "name": "#%%\n"
    }
   }
  },
  {
   "cell_type": "markdown",
   "source": [
    "If we have grid with $m$ columns and $n$ rows, all our router will have $l$ length:\n",
    "$l = m + n$\n",
    "\n",
    "I.e. example from description will have $l=4$.\n",
    "\n",
    "We can think of one route as of bit string, where 1 means go down and 0 means go right. For example, we have the following routes from description:\n",
    "<center>1100   1010   1001</center>\n",
    "<center>0110   0101   0011</center>\n",
    "\n",
    "We know that we need to have $m$ down moves and $n$ right moves. We can enumerate bits and can represent solution as array of number of 1 bits, i.e for example from description we have 2-sized arrays:\n",
    "<center>{0, 1} {0, 2} {0, 3}</center>\n",
    "<center>{1, 2} {1, 3} {2, 3}</center>\n",
    "\n",
    "In this representation our problem is reduced to finding combinations of $m$ \"move-down\" bit positional numbers of $l$ possible values.\n",
    "$C_{l}^{m} = \\frac{l!}{m!(l - m)!}$"
   ],
   "metadata": {
    "collapsed": false,
    "pycharm": {
     "name": "#%% md\n"
    }
   }
  },
  {
   "cell_type": "code",
   "execution_count": 17,
   "outputs": [
    {
     "data": {
      "text/plain": "120"
     },
     "execution_count": 17,
     "metadata": {},
     "output_type": "execute_result"
    }
   ],
   "source": [
    "from functools import reduce\n",
    "\n",
    "l = m + n\n",
    "\n",
    "def fact(n):\n",
    "    return reduce(lambda x, y: x * y, range(1, n + 1))\n",
    "\n",
    "fact(5)"
   ],
   "metadata": {
    "collapsed": false,
    "pycharm": {
     "name": "#%%\n"
    }
   }
  },
  {
   "cell_type": "code",
   "execution_count": 18,
   "outputs": [
    {
     "name": "stdout",
     "output_type": "stream",
     "text": [
      "Answer is  137846528820\n"
     ]
    }
   ],
   "source": [
    "answer = fact(l) // fact(l - m) // fact(m)\n",
    "print(\"Answer is \", answer)"
   ],
   "metadata": {
    "collapsed": false,
    "pycharm": {
     "name": "#%%\n"
    }
   }
  }
 ],
 "metadata": {
  "kernelspec": {
   "display_name": "Python 3",
   "language": "python",
   "name": "python3"
  },
  "language_info": {
   "codemirror_mode": {
    "name": "ipython",
    "version": 2
   },
   "file_extension": ".py",
   "mimetype": "text/x-python",
   "name": "python",
   "nbconvert_exporter": "python",
   "pygments_lexer": "ipython2",
   "version": "2.7.6"
  }
 },
 "nbformat": 4,
 "nbformat_minor": 0
}