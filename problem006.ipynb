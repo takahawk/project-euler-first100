{
 "cells": [
  {
   "cell_type": "markdown",
   "id": "a36f194b",
   "metadata": {},
   "source": [
    "# Sum square difference\n",
    "## Problem 6\n",
    "The sum of the squares of the first ten natural numbers is,    \n",
    "  \n",
    "  \n",
    "<center>$1^2 + 2^2 + ... + 10^2 = 385$</center>  \n",
    "  \n",
    "The square of the sum of the first ten natural numbers is,  \n",
    "  \n",
    "<center>$(1 + 2 + ... + 10)^2 = 55^2 = 3025$</center>  \n",
    "  \n",
    "Hence the difference between the sum of the squares of the first ten natural numbers and the square of the sum is  \n",
    "  \n",
    "<center>$3025 - 385 = 2640$</center>  \n",
    "  \n",
    "Find the difference between the sum of the squares of the first one hundred natural numbers and the square of the sum."
   ]
  },
  {
   "cell_type": "code",
   "execution_count": 12,
   "id": "111a741e",
   "metadata": {},
   "outputs": [],
   "source": [
    "n = 100\n",
    "numbers = range(1, n + 1)"
   ]
  },
  {
   "cell_type": "code",
   "execution_count": 13,
   "id": "3a2cad98",
   "metadata": {},
   "outputs": [
    {
     "name": "stdout",
     "output_type": "stream",
     "text": [
      "Sum of squares:  338350\n"
     ]
    }
   ],
   "source": [
    "sum_of_squares = sum([x ** 2 for x in numbers])\n",
    "print(\"Sum of squares: \", sum_of_squares)"
   ]
  },
  {
   "cell_type": "code",
   "execution_count": 14,
   "id": "3228297e",
   "metadata": {},
   "outputs": [
    {
     "name": "stdout",
     "output_type": "stream",
     "text": [
      "Square of sum:  25502500\n"
     ]
    }
   ],
   "source": [
    "square_of_sum = sum(numbers) ** 2\n",
    "print(\"Square of sum: \", square_of_sum)"
   ]
  },
  {
   "cell_type": "code",
   "execution_count": 15,
   "id": "b790b2ee",
   "metadata": {},
   "outputs": [
    {
     "name": "stdout",
     "output_type": "stream",
     "text": [
      "Answer is  25164150\n"
     ]
    }
   ],
   "source": [
    "answer = square_of_sum - sum_of_squares\n",
    "print(\"Answer is \", answer)"
   ]
  }
 ],
 "metadata": {
  "kernelspec": {
   "display_name": "Python 3 (ipykernel)",
   "language": "python",
   "name": "python3"
  },
  "language_info": {
   "codemirror_mode": {
    "name": "ipython",
    "version": 3
   },
   "file_extension": ".py",
   "mimetype": "text/x-python",
   "name": "python",
   "nbconvert_exporter": "python",
   "pygments_lexer": "ipython3",
   "version": "3.9.7"
  }
 },
 "nbformat": 4,
 "nbformat_minor": 5
}
