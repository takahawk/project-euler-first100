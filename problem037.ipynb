{
 "cells": [
  {
   "cell_type": "markdown",
   "metadata": {
    "collapsed": true,
    "pycharm": {
     "name": "#%% md\n"
    }
   },
   "source": [
    "# Truncatable primes\n",
    "## Problem 37\n",
    "\n",
    "The number 3797 has an interesting property. Being prime itself, it is possible to continuously remove digits from left to right, and remain prime at each stage: 3797, 797, 97, and 7. Similarly we can work from right to left: 3797, 379, 37, and 3.\n",
    "\n",
    "Find the sum of the only eleven primes that are both truncatable from left to right and right to left.\n",
    "\n",
    "NOTE: 2, 3, 5, and 7 are not considered to be truncatable primes."
   ]
  },
  {
   "cell_type": "code",
   "execution_count": 44,
   "outputs": [],
   "source": [
    "count = 11"
   ],
   "metadata": {
    "collapsed": false,
    "pycharm": {
     "name": "#%%\n"
    }
   }
  },
  {
   "cell_type": "code",
   "execution_count": 45,
   "outputs": [
    {
     "data": {
      "text/plain": "[2, 3, 5, 7, 11, 13, 17, 19, 23, 29, 31, 37, 41, 43, 47, 53, 59, 61, 67, 71]"
     },
     "execution_count": 45,
     "metadata": {},
     "output_type": "execute_result"
    }
   ],
   "source": [
    "from math import sqrt\n",
    "\n",
    "primes = []\n",
    "\n",
    "def get_primes():\n",
    "    x = 2\n",
    "    for p in primes:\n",
    "        x = p + 1\n",
    "        yield p\n",
    "    while True:\n",
    "        is_prime = True\n",
    "        for p in primes:\n",
    "            if sqrt(x) < p:\n",
    "                break\n",
    "            if x % p == 0:\n",
    "                is_prime = False\n",
    "\n",
    "        if is_prime:\n",
    "            primes.append(x)\n",
    "            yield x\n",
    "        x += 1\n",
    "\n",
    "def is_prime(x):\n",
    "    gen = get_primes()\n",
    "    while primes[-1] < x:\n",
    "        next(gen)\n",
    "    return x in primes\n",
    "\n",
    "gen = get_primes()\n",
    "[next(gen) for i in range(20)]"
   ],
   "metadata": {
    "collapsed": false,
    "pycharm": {
     "name": "#%%\n"
    }
   }
  },
  {
   "cell_type": "code",
   "execution_count": 19,
   "outputs": [
    {
     "data": {
      "text/plain": "True"
     },
     "execution_count": 19,
     "metadata": {},
     "output_type": "execute_result"
    }
   ],
   "source": [
    "def is_right_truncatable(x):\n",
    "    if x < 10:\n",
    "        return False\n",
    "    while x != 0:\n",
    "        if not is_prime(x):\n",
    "            return False\n",
    "        x //= 10\n",
    "\n",
    "    return True\n",
    "\n",
    "assert(is_right_truncatable(3797))\n",
    "assert(not is_right_truncatable(3555))"
   ],
   "metadata": {
    "collapsed": false,
    "pycharm": {
     "name": "#%%\n"
    }
   }
  },
  {
   "cell_type": "code",
   "execution_count": 34,
   "outputs": [],
   "source": [
    "def is_left_truncatable(x):\n",
    "    if x < 10:\n",
    "        return False\n",
    "    while x != 0:\n",
    "        if not is_prime(x):\n",
    "            return False\n",
    "        x %= 10 ** (len(str(x)) - 1)\n",
    "\n",
    "    return True\n",
    "\n",
    "assert(is_left_truncatable(137))\n",
    "assert(is_left_truncatable(3797))\n",
    "assert(not is_left_truncatable(135))"
   ],
   "metadata": {
    "collapsed": false,
    "pycharm": {
     "name": "#%%\n"
    }
   }
  },
  {
   "cell_type": "code",
   "execution_count": 47,
   "outputs": [
    {
     "data": {
      "text/plain": "[23, 37, 53, 73, 313, 317, 373, 797, 3137, 3797, 739397]"
     },
     "execution_count": 47,
     "metadata": {},
     "output_type": "execute_result"
    }
   ],
   "source": [
    "truncatables = []\n",
    "for x in get_primes():\n",
    "    if is_left_truncatable(x) and is_right_truncatable(x):\n",
    "        truncatables.append(x)\n",
    "\n",
    "    if len(truncatables) == count:\n",
    "        break\n",
    "\n",
    "truncatables"
   ],
   "metadata": {
    "collapsed": false,
    "pycharm": {
     "name": "#%%\n"
    }
   }
  },
  {
   "cell_type": "code",
   "execution_count": 48,
   "outputs": [
    {
     "name": "stdout",
     "output_type": "stream",
     "text": [
      "Answer is  748317\n"
     ]
    }
   ],
   "source": [
    "answer = sum(truncatables)\n",
    "print(\"Answer is \", answer)"
   ],
   "metadata": {
    "collapsed": false,
    "pycharm": {
     "name": "#%%\n"
    }
   }
  }
 ],
 "metadata": {
  "kernelspec": {
   "display_name": "Python 3",
   "language": "python",
   "name": "python3"
  },
  "language_info": {
   "codemirror_mode": {
    "name": "ipython",
    "version": 2
   },
   "file_extension": ".py",
   "mimetype": "text/x-python",
   "name": "python",
   "nbconvert_exporter": "python",
   "pygments_lexer": "ipython2",
   "version": "2.7.6"
  }
 },
 "nbformat": 4,
 "nbformat_minor": 0
}