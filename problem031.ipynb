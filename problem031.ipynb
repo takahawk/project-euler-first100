{
 "cells": [
  {
   "cell_type": "markdown",
   "metadata": {
    "collapsed": true,
    "pycharm": {
     "name": "#%% md\n"
    }
   },
   "source": [
    "# Coin sums\n",
    "## Problem 31\n",
    "\n",
    "In the United Kingdom the currency is made up of pound (£) and pence (p). There are eight coins in general circulation:\n",
    "\n",
    "<center>1p, 2p, 5p, 10p, 20p, 50p, £1 (100p), and £2 (200p).</center>\n",
    "\n",
    "It is possible to make £2 in the following way:\n",
    "\n",
    "<center>1×£1 + 1×50p + 2×20p + 1×5p + 1×2p + 3×1p</center>\n",
    "\n",
    "How many different ways can £2 be made using any number of coins?"
   ]
  },
  {
   "cell_type": "code",
   "execution_count": 36,
   "outputs": [],
   "source": [
    "s = 200\n",
    "coins = [1, 2, 5, 10, 20, 50, 100, 200]"
   ],
   "metadata": {
    "collapsed": false,
    "pycharm": {
     "name": "#%%\n"
    }
   }
  },
  {
   "cell_type": "code",
   "execution_count": 37,
   "outputs": [],
   "source": [
    "def get_combinations(s, coins):\n",
    "    if s == 0:\n",
    "        return 1\n",
    "    if s < 0 or len(coins) == 0:\n",
    "        return 0\n",
    "    return get_combinations(s, coins[1:]) + get_combinations(s - coins[0], coins)\n",
    "assert(get_combinations(1, [1, 1, 1, 1]) == 4)\n",
    "assert(get_combinations(3, [2, 1]) == 2)"
   ],
   "metadata": {
    "collapsed": false,
    "pycharm": {
     "name": "#%%\n"
    }
   }
  },
  {
   "cell_type": "code",
   "execution_count": 38,
   "outputs": [
    {
     "name": "stdout",
     "output_type": "stream",
     "text": [
      "Answer is  73682\n"
     ]
    }
   ],
   "source": [
    "coins.sort(reverse=True)\n",
    "answer = get_combinations(s, coins)\n",
    "print(\"Answer is \", answer)"
   ],
   "metadata": {
    "collapsed": false,
    "pycharm": {
     "name": "#%%\n"
    }
   }
  }
 ],
 "metadata": {
  "kernelspec": {
   "display_name": "Python 3",
   "language": "python",
   "name": "python3"
  },
  "language_info": {
   "codemirror_mode": {
    "name": "ipython",
    "version": 2
   },
   "file_extension": ".py",
   "mimetype": "text/x-python",
   "name": "python",
   "nbconvert_exporter": "python",
   "pygments_lexer": "ipython2",
   "version": "2.7.6"
  }
 },
 "nbformat": 4,
 "nbformat_minor": 0
}