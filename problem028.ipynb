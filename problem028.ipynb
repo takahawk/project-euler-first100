{
 "cells": [
  {
   "cell_type": "markdown",
   "metadata": {
    "collapsed": true,
    "pycharm": {
     "name": "#%% md\n"
    }
   },
   "source": [
    "# Number spiral diagonals\n",
    "## Problem 28\n",
    "\n",
    "Starting with the number 1 and moving to the right in a clockwise direction a 5 by 5 spiral is formed as follows:\n",
    "\n",
    "21 22 23 24 25\n",
    "20  7  8  9 10\n",
    "19  6  1  2 11\n",
    "18  5  4  3 12\n",
    "17 16 15 14 13\n",
    "\n",
    "It can be verified that the sum of the numbers on the diagonals is 101.\n",
    "\n",
    "What is the sum of the numbers on the diagonals in a 1001 by 1001 spiral formed in the same way?"
   ]
  },
  {
   "cell_type": "code",
   "execution_count": 6,
   "outputs": [],
   "source": [
    "n = 1001"
   ],
   "metadata": {
    "collapsed": false,
    "pycharm": {
     "name": "#%%\n"
    }
   }
  },
  {
   "cell_type": "markdown",
   "source": [
    "We can divide our diagonal elements into slices, starting in center:\n",
    "$a_0 = \\{1\\}$\n",
    "$a_1 = \\{3, 5, 7, 9\\}$\n",
    "$a_2 = \\{13, 17, 21, 25\\}$\n",
    "$a_3 = \\{31, 37, 43, 49\\}$\n",
    "$a_4 = \\{57, 65, 73, 81\\}$\n",
    "\n",
    "We can see that increasing number of slice we increase difference between elements:\n",
    "$d_0 = 0$\n",
    "$d_1 = 2$\n",
    "$d_2 = 4$\n",
    "\n",
    "Let's calculate sum of slices:\n",
    "$s_1 = 24$\n",
    "$s_2 = 76$\n",
    "$s_3 = 160$\n",
    "$s_4 = 276$\n",
    "\n",
    "We can see that difference between sums have some consistent pattern:\n",
    "$(s_2 - s_1, s_3 - s_2, s_4 - s_3, ...) = (52, 84, 116, ...)\n",
    "they all differ by 32."
   ],
   "metadata": {
    "collapsed": false,
    "pycharm": {
     "name": "#%% md\n"
    }
   }
  },
  {
   "cell_type": "code",
   "execution_count": 7,
   "outputs": [
    {
     "name": "stdout",
     "output_type": "stream",
     "text": [
      "Answer is  669171001\n"
     ]
    }
   ],
   "source": [
    "assert(n >= 1)\n",
    "n = n // 2 + 1\n",
    "answer = 1\n",
    "s = 24\n",
    "diff = 52\n",
    "ddiff = 32\n",
    "for i in range(1, n):\n",
    "    answer += s\n",
    "    s += diff\n",
    "    diff += ddiff\n",
    "\n",
    "print(\"Answer is \", answer)"
   ],
   "metadata": {
    "collapsed": false,
    "pycharm": {
     "name": "#%%\n"
    }
   }
  }
 ],
 "metadata": {
  "kernelspec": {
   "display_name": "Python 3",
   "language": "python",
   "name": "python3"
  },
  "language_info": {
   "codemirror_mode": {
    "name": "ipython",
    "version": 2
   },
   "file_extension": ".py",
   "mimetype": "text/x-python",
   "name": "python",
   "nbconvert_exporter": "python",
   "pygments_lexer": "ipython2",
   "version": "2.7.6"
  }
 },
 "nbformat": 4,
 "nbformat_minor": 0
}