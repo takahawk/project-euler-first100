{
 "cells": [
  {
   "cell_type": "markdown",
   "metadata": {
    "collapsed": true,
    "pycharm": {
     "name": "#%% md\n"
    }
   },
   "source": [
    "# Digit fifth powers\n",
    "## Problem 30\n",
    "\n",
    "Surprisingly there are only three numbers that can be written as the sum of fourth powers of their digits:\n",
    "$\n",
    "    1634 = 1^4 + 6^4 + 3^4 + 4^4\\\\\n",
    "    8208 = 8^4 + 2^4 + 0^4 + 8^4\\\\\n",
    "    9474 = 9^4 + 4^4 + 7^4 + 4^4\\\\\n",
    "$\n",
    "As $1 = 1^4$ is not a sum it is not included.\n",
    "\n",
    "The sum of these numbers is 1634 + 8208 + 9474 = 19316.\n",
    "\n",
    "Find the sum of all the numbers that can be written as the sum of fifth powers of their digits."
   ]
  },
  {
   "cell_type": "code",
   "execution_count": 18,
   "outputs": [],
   "source": [
    "p = 5"
   ],
   "metadata": {
    "collapsed": false,
    "pycharm": {
     "name": "#%%\n"
    }
   }
  },
  {
   "cell_type": "code",
   "execution_count": 19,
   "outputs": [],
   "source": [
    "max_digits = 1\n",
    "while max_digits * (9 ** p) > 10 ** max_digits:\n",
    "    max_digits += 1\n",
    "number_range = range(10, 10 ** (max_digits + 1))"
   ],
   "metadata": {
    "collapsed": false,
    "pycharm": {
     "name": "#%%\n"
    }
   }
  },
  {
   "cell_type": "code",
   "execution_count": 20,
   "outputs": [],
   "source": [
    "def can_be_written_as_sum_of_powers(p, num):\n",
    "    return num >= 10 and sum(int(d) ** p for d in str(num)) == num\n",
    "\n",
    "assert(can_be_written_as_sum_of_powers(4, 1634))\n",
    "assert(can_be_written_as_sum_of_powers(4, 8208))\n",
    "assert(can_be_written_as_sum_of_powers(4, 9474))\n",
    "assert(not can_be_written_as_sum_of_powers(4, 1))"
   ],
   "metadata": {
    "collapsed": false,
    "pycharm": {
     "name": "#%%\n"
    }
   }
  },
  {
   "cell_type": "code",
   "execution_count": 21,
   "outputs": [
    {
     "name": "stdout",
     "output_type": "stream",
     "text": [
      "Answer is  443839\n"
     ]
    }
   ],
   "source": [
    "answer = sum(x for x in number_range if can_be_written_as_sum_of_powers(p, x))\n",
    "print(\"Answer is \", answer)"
   ],
   "metadata": {
    "collapsed": false,
    "pycharm": {
     "name": "#%%\n"
    }
   }
  }
 ],
 "metadata": {
  "kernelspec": {
   "display_name": "Python 3",
   "language": "python",
   "name": "python3"
  },
  "language_info": {
   "codemirror_mode": {
    "name": "ipython",
    "version": 2
   },
   "file_extension": ".py",
   "mimetype": "text/x-python",
   "name": "python",
   "nbconvert_exporter": "python",
   "pygments_lexer": "ipython2",
   "version": "2.7.6"
  }
 },
 "nbformat": 4,
 "nbformat_minor": 0
}