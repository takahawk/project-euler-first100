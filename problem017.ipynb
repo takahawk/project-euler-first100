{
 "cells": [
  {
   "cell_type": "markdown",
   "metadata": {
    "collapsed": true,
    "pycharm": {
     "name": "#%% md\n"
    }
   },
   "source": [
    "# Number letter counts\n",
    "## Problem 17\n",
    "If the numbers 1 to 5 are written out in words: one, two, three, four, five, then there are 3 + 3 + 5 + 4 + 4 = 19 letters used in total.\n",
    "\n",
    "If all the numbers from 1 to 1000 (one thousand) inclusive were written out in words, how many letters would be used?\n",
    "\n",
    "NOTE: Do not count spaces or hyphens. For example, 342 (three hundred and forty-two) contains 23 letters and 115 (one hundred and fifteen) contains 20 letters. The use of \"and\" when writing out numbers is in compliance with British usage."
   ]
  },
  {
   "cell_type": "code",
   "execution_count": null,
   "outputs": [],
   "source": [
    "r = range(1, 1001)"
   ],
   "metadata": {
    "collapsed": false,
    "pycharm": {
     "name": "#%%\n"
    }
   }
  },
  {
   "cell_type": "code",
   "execution_count": null,
   "outputs": [],
   "source": [
    "words = {\n",
    "    0: \"zero\",\n",
    "    1: \"one\",\n",
    "    2: \"two\",\n",
    "    3: \"three\",\n",
    "    4: \"four\",\n",
    "    5: \"five\",\n",
    "    6: \"six\",\n",
    "    7: \"seven\",\n",
    "    8: \"eight\",\n",
    "    9: \"nine\",\n",
    "    10: \"ten\",\n",
    "    11: \"eleven\",\n",
    "    12: \"twelve\",\n",
    "    13: \"thirteen\",\n",
    "    14: \"fourteen\",\n",
    "    15: \"fifteen\",\n",
    "    16: \"sixteen\",\n",
    "    17: \"seventeen\",\n",
    "    18: \"eighteen\",\n",
    "    19: \"nineteen\",\n",
    "    20: \"twenty\",\n",
    "    30: \"thirty\",\n",
    "    40: \"forty\",\n",
    "    50: \"fifty\",\n",
    "    60: \"sixty\",\n",
    "    70: \"seventy\",\n",
    "    80: \"eighty\",\n",
    "    90: \"ninety\",\n",
    "}\n",
    "\n",
    "def write_out_in_words(x):\n",
    "    assert(x < 1_000_000)\n",
    "    if x < 20:\n",
    "        return words[x]\n",
    "    elif x < 100:\n",
    "        res = words[(x // 10) * 10]\n",
    "        if x % 10 != 0:\n",
    "            res += \"-\" + words[x % 10]\n",
    "    elif x < 1000:\n",
    "        res = words[(x // 100)] + \" hundred\"\n",
    "        if x % 100 != 0:\n",
    "            res += \" and \" + write_out_in_words(x % 100)\n",
    "    else:\n",
    "        res = write_out_in_words(x // 1000) + \" thousand\"\n",
    "        if x % 1000 != 0:\n",
    "            res += \" and \" + write_out_in_words(x % 1000)\n",
    "    return res\n",
    "\n",
    "print(\"342 is \", write_out_in_words(342))\n",
    "print(\"115 is \", write_out_in_words(115))\n",
    "print(\"1000 is \", write_out_in_words(1000))"
   ],
   "metadata": {
    "collapsed": false,
    "pycharm": {
     "name": "#%%\n"
    }
   }
  },
  {
   "cell_type": "code",
   "execution_count": null,
   "outputs": [],
   "source": [
    "def count_letters(s):\n",
    "    res = 0\n",
    "    for ch in s:\n",
    "        if ch.isalpha():\n",
    "            res += 1\n",
    "    return res\n",
    "\n",
    "count_letters(\"three hundred and forty-two\")"
   ],
   "metadata": {
    "collapsed": false,
    "pycharm": {
     "name": "#%%\n"
    }
   }
  },
  {
   "cell_type": "code",
   "execution_count": null,
   "outputs": [],
   "source": [
    "answer = sum([count_letters(write_out_in_words(x)) for x in r])\n",
    "print(\"Answer is \", answer)"
   ],
   "metadata": {
    "collapsed": false,
    "pycharm": {
     "name": "#%%\n"
    }
   }
  }
 ],
 "metadata": {
  "kernelspec": {
   "display_name": "Python 3",
   "language": "python",
   "name": "python3"
  },
  "language_info": {
   "codemirror_mode": {
    "name": "ipython",
    "version": 2
   },
   "file_extension": ".py",
   "mimetype": "text/x-python",
   "name": "python",
   "nbconvert_exporter": "python",
   "pygments_lexer": "ipython2",
   "version": "2.7.6"
  }
 },
 "nbformat": 4,
 "nbformat_minor": 0
}