{
 "cells": [
  {
   "cell_type": "markdown",
   "metadata": {
    "collapsed": true,
    "pycharm": {
     "name": "#%% md\n"
    }
   },
   "source": [
    "# Maximum path sum II\n",
    "## Problem 67\n",
    "By starting at the top of the triangle below and moving to adjacent numbers on the row below, the maximum total from top to bottom is 23.\n",
    "<center><span style=\"color: red\">3</span></center>\n",
    "<center><span style=\"color: red\">7</span> 4</center>\n",
    "<center>2 <span style=\"color: red\">4</span> 6</center>\n",
    "<center>8 5 <span style=\"color: red\">9</span> 3  </center>\n",
    "\n",
    "That is, 3 + 7 + 4 + 9 = 23.\n",
    "\n",
    "Find the maximum total from top to bottom in triangle.txt, a 15K text file containing a triangle with one-hundred rows.\n",
    "\n",
    "NOTE: This is a much more difficult version of Problem 18. It is not possible to try every route to solve this problem, as there are $2^{99}$ altogether! If you could check one trillion ($10^{12}$) routes every second it would take over twenty billion years to check them all. There is an efficient algorithm to solve it. ;o)"
   ]
  },
  {
   "cell_type": "code",
   "execution_count": 4,
   "outputs": [
    {
     "data": {
      "text/plain": "[[59],\n [73, 41],\n [52, 40, 9],\n [26, 53, 6, 34],\n [10, 51, 87, 86, 81],\n [61, 95, 66, 57, 25, 68],\n [90, 81, 80, 38, 92, 67, 73],\n [30, 28, 51, 76, 81, 18, 75, 44],\n [84, 14, 95, 87, 62, 81, 17, 78, 58],\n [21, 46, 71, 58, 2, 79, 62, 39, 31, 9]]"
     },
     "execution_count": 4,
     "metadata": {},
     "output_type": "execute_result"
    }
   ],
   "source": [
    "f = open(\"p067_triangle.txt\", \"r\")\n",
    "triangle = [list(map(int, line.strip(\"\\n\").split(\" \"))) for line in f.readlines()]\n",
    "triangle[:10]"
   ],
   "metadata": {
    "collapsed": false,
    "pycharm": {
     "name": "#%%\n"
    }
   }
  },
  {
   "cell_type": "code",
   "execution_count": 5,
   "outputs": [],
   "source": [
    "# it will be more convenient for actual calculations to reverse the order of rows\n",
    "triangle.reverse()\n",
    "max_paths = [triangle[0]]\n",
    "for i in range(1, len(triangle)):\n",
    "    max_paths.append(list())\n",
    "    for j in range(len(triangle[i])):\n",
    "        max_paths[i].append(triangle[i][j] + max(max_paths[i - 1][j], max_paths[i - 1][j + 1]))"
   ],
   "metadata": {
    "collapsed": false,
    "pycharm": {
     "name": "#%%\n"
    }
   }
  },
  {
   "cell_type": "code",
   "execution_count": 6,
   "outputs": [
    {
     "name": "stdout",
     "output_type": "stream",
     "text": [
      "Answer is  7273\n"
     ]
    }
   ],
   "source": [
    "answer = max_paths[-1][0]\n",
    "print(\"Answer is \", answer)"
   ],
   "metadata": {
    "collapsed": false,
    "pycharm": {
     "name": "#%%\n"
    }
   }
  },
  {
   "cell_type": "code",
   "execution_count": null,
   "outputs": [],
   "source": [],
   "metadata": {
    "collapsed": false,
    "pycharm": {
     "name": "#%%\n"
    }
   }
  }
 ],
 "metadata": {
  "kernelspec": {
   "display_name": "Python 3",
   "language": "python",
   "name": "python3"
  },
  "language_info": {
   "codemirror_mode": {
    "name": "ipython",
    "version": 2
   },
   "file_extension": ".py",
   "mimetype": "text/x-python",
   "name": "python",
   "nbconvert_exporter": "python",
   "pygments_lexer": "ipython2",
   "version": "2.7.6"
  }
 },
 "nbformat": 4,
 "nbformat_minor": 0
}