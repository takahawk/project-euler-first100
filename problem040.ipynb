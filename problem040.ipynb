{
 "cells": [
  {
   "cell_type": "markdown",
   "metadata": {
    "collapsed": true,
    "pycharm": {
     "name": "#%% md\n"
    }
   },
   "source": [
    "# Champernowne's constant\n",
    "## Problem 40\n",
    "\n",
    "An irrational decimal fraction is created by concatenating the positive integers:\n",
    "\n",
    "0.123456789101112131415161718192021...\n",
    "\n",
    "It can be seen that the 12th digit of the fractional part is 1.\n",
    "\n",
    "If $d_n$ represents the nth digit of the fractional part, find the value of the following expression.\n",
    "\n",
    "$d_{1} × d_{10} × d_{100} × d_{1000} × d_{10000} × d_{100000} × d_{1000000}$"
   ]
  },
  {
   "cell_type": "code",
   "execution_count": 132,
   "outputs": [],
   "source": [
    "digit_numbers = [1, 10, 100, 1000, 10000, 100000, 1000000]"
   ],
   "metadata": {
    "collapsed": false,
    "pycharm": {
     "name": "#%%\n"
    }
   }
  },
  {
   "cell_type": "code",
   "execution_count": 135,
   "outputs": [],
   "source": [
    "from functools import reduce\n",
    "\n",
    "def get_champerowne_constant_digit(n):\n",
    "    l = 1\n",
    "    while n // l > 9 * (10 ** (l - 1)):\n",
    "        n -= 9 * (10 ** (l - 1)) * l\n",
    "        l += 1\n",
    "\n",
    "    return int(str(10 ** (l - 1) + (n - 1) // l)[(n - 1) % l])\n",
    "\n",
    "concatenated = reduce(lambda x, y: x + y, [str(i) for i in range(200)])\n",
    "for i in range(len(concatenated)):\n",
    "    actual = get_champerowne_constant_digit(i)\n",
    "    expected = int(concatenated[i])\n",
    "    assert actual == expected, \"{}: {} != {}\".format(i, actual, expected)"
   ],
   "metadata": {
    "collapsed": false,
    "pycharm": {
     "name": "#%%\n"
    }
   }
  },
  {
   "cell_type": "code",
   "execution_count": 136,
   "outputs": [
    {
     "name": "stdout",
     "output_type": "stream",
     "text": [
      "Answer is  210\n"
     ]
    }
   ],
   "source": [
    "answer = reduce(lambda x, y: x * y,\n",
    "                (get_champerowne_constant_digit(n)\n",
    "                 for n in digit_numbers))\n",
    "print(\"Answer is \", answer)"
   ],
   "metadata": {
    "collapsed": false,
    "pycharm": {
     "name": "#%%\n"
    }
   }
  }
 ],
 "metadata": {
  "kernelspec": {
   "display_name": "Python 3",
   "language": "python",
   "name": "python3"
  },
  "language_info": {
   "codemirror_mode": {
    "name": "ipython",
    "version": 2
   },
   "file_extension": ".py",
   "mimetype": "text/x-python",
   "name": "python",
   "nbconvert_exporter": "python",
   "pygments_lexer": "ipython2",
   "version": "2.7.6"
  }
 },
 "nbformat": 4,
 "nbformat_minor": 0
}